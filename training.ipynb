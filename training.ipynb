{
 "cells": [
  {
   "cell_type": "code",
   "execution_count": 2,
   "metadata": {},
   "outputs": [],
   "source": [
    "import cv2\n",
    "import os\n",
    "import numpy as np\n",
    "import scipy\n"
   ]
  },
  {
   "cell_type": "code",
   "execution_count": 29,
   "metadata": {},
   "outputs": [],
   "source": [
    "def load_images_from_folder(folder):\n",
    "    images = []\n",
    "    for foldername in os.listdir(folder):\n",
    "        for filename in os.listdir(os.path.join(folder,foldername)):\n",
    "            img = cv2.imread(os.path.join(os.path.join(folder,foldername),filename))\n",
    "            if img is not None:\n",
    "                images.append(img)\n",
    "    return images\n",
    "\n",
    "images = load_images_from_folder('lfw_data')\n"
   ]
  },
  {
   "cell_type": "code",
<<<<<<< HEAD
=======
   "execution_count": 31,
   "metadata": {},
   "outputs": [
    {
     "data": {
      "text/plain": [
       "(13233, 250, 250, 3)"
      ]
     },
     "execution_count": 31,
     "metadata": {},
     "output_type": "execute_result"
    }
   ],
   "source": [
    "images_stack = np.stack(images, axis=0)\n",
    "images_stack.shape"
   ]
  },
  {
   "cell_type": "code",
   "execution_count": 32,
   "metadata": {},
   "outputs": [
    {
     "ename": "MemoryError",
     "evalue": "Unable to allocate 18.5 GiB for an array with shape (13233, 187500) and data type float64",
     "output_type": "error",
     "traceback": [
      "\u001b[1;31m---------------------------------------------------------------------------\u001b[0m",
      "\u001b[1;31mMemoryError\u001b[0m                               Traceback (most recent call last)",
      "\u001b[1;32mc:\\Users\\lmcge\\OneDrive\\Desktop\\AMS595\\Final Project\\AMS-595-Project\\training.ipynb Cell 4\u001b[0m line \u001b[0;36m2\n\u001b[0;32m      <a href='vscode-notebook-cell:/c%3A/Users/lmcge/OneDrive/Desktop/AMS595/Final%20Project/AMS-595-Project/training.ipynb#X11sZmlsZQ%3D%3D?line=0'>1</a>\u001b[0m X \u001b[39m=\u001b[39m images_stack\u001b[39m.\u001b[39mreshape((images_stack\u001b[39m.\u001b[39mshape[\u001b[39m0\u001b[39m], np\u001b[39m.\u001b[39mprod(images_stack\u001b[39m.\u001b[39mshape[\u001b[39m1\u001b[39m:\u001b[39m4\u001b[39m])))\n\u001b[1;32m----> <a href='vscode-notebook-cell:/c%3A/Users/lmcge/OneDrive/Desktop/AMS595/Final%20Project/AMS-595-Project/training.ipynb#X11sZmlsZQ%3D%3D?line=1'>2</a>\u001b[0m X \u001b[39m=\u001b[39m X \u001b[39m/\u001b[39;49m \u001b[39m255\u001b[39;49m\n\u001b[0;32m      <a href='vscode-notebook-cell:/c%3A/Users/lmcge/OneDrive/Desktop/AMS595/Final%20Project/AMS-595-Project/training.ipynb#X11sZmlsZQ%3D%3D?line=2'>3</a>\u001b[0m X\u001b[39m.\u001b[39msize\n",
      "\u001b[1;31mMemoryError\u001b[0m: Unable to allocate 18.5 GiB for an array with shape (13233, 187500) and data type float64"
     ]
    }
   ],
   "source": [
    "X = images_stack.reshape((images_stack.shape[0], np.prod(images_stack.shape[1:4])))\n",
    "X = X / 255\n",
    "X.size"
   ]
  },
  {
   "cell_type": "code",
   "execution_count": 37,
>>>>>>> 5acbe4e63ea75951ac88823d17b70ed31e475405
   "metadata": {},
   "outputs": [],
   "source": [
    "def load_image_names_from_folder(folder):\n",
    "    names = []\n",
    "    for foldername in os.listdir(folder):\n",
    "        for filename in os.listdir(os.path.join(folder,foldername)):\n",
    "            names.append(filename[:filename.rfind(\"_\")])\n",
    "    return names\n",
    "\n",
    "names = load_image_names_from_folder('lfw_data')\n",
    "Y = [1 if x == 'George_W_Bush' else 0 for x in names]"
   ]
  },
  {
   "cell_type": "code",
   "execution_count": 38,
   "metadata": {},
   "outputs": [],
   "source": [
    "# return a probability value [0, 1] for a given input z\n",
    "def sigmoid(z):\n",
    "    return 1 / (1 + np.exp(-z))\n"
   ]
  },
  {
   "cell_type": "code",
   "execution_count": 41,
   "metadata": {},
   "outputs": [],
   "source": [
    "def propagate(w, b, X, Y):\n",
    "    '''\n",
    "    Implement the cost function and its gradient \n",
    "\n",
    "    Arguments:\n",
    "    w: weights - numpy array of size (num_px * num_px * 3, 1)\n",
    "    b: bias - scalar\n",
    "    X: data of size (num. samples, num_px * num_px * 3)\n",
    "    Y: true \"label\" vector \n",
    "\n",
    "    Return:\n",
    "    dw: gradient of loss function w.r.t. w - same shape as w\n",
    "    db: gradient of loss function w.r.t. b - same shape as b\n",
    "    '''\n",
    "    m = X.shape[0]\n",
    "    \n",
    "    # Forward propagation (X -> cost)\n",
    "    A = sigmoid(np.dot(X, w) + b)\n",
    "\n",
    "    # Backward propagation (to find gradient)\n",
    "    dw = (np.dot(X.T, (A-Y))) / m \n",
    "    db = (np.sum(A-Y)) / m \n",
    "\n",
    "    return dw, db"
   ]
  },
  {
   "cell_type": "code",
   "execution_count": 42,
   "metadata": {},
   "outputs": [
    {
     "ename": "MemoryError",
     "evalue": "Unable to allocate 18.5 GiB for an array with shape (13233, 187500) and data type float64",
     "output_type": "error",
     "traceback": [
      "\u001b[1;31m---------------------------------------------------------------------------\u001b[0m",
      "\u001b[1;31mMemoryError\u001b[0m                               Traceback (most recent call last)",
      "\u001b[1;32mc:\\Users\\lmcge\\OneDrive\\Desktop\\AMS595\\Final Project\\AMS-595-Project\\training.ipynb Cell 8\u001b[0m line \u001b[0;36m1\n\u001b[0;32m     <a href='vscode-notebook-cell:/c%3A/Users/lmcge/OneDrive/Desktop/AMS595/Final%20Project/AMS-595-Project/training.ipynb#X13sZmlsZQ%3D%3D?line=11'>12</a>\u001b[0m learning_rate \u001b[39m=\u001b[39m \u001b[39m0.006\u001b[39m\n\u001b[0;32m     <a href='vscode-notebook-cell:/c%3A/Users/lmcge/OneDrive/Desktop/AMS595/Final%20Project/AMS-595-Project/training.ipynb#X13sZmlsZQ%3D%3D?line=13'>14</a>\u001b[0m \u001b[39mfor\u001b[39;00m i \u001b[39min\u001b[39;00m \u001b[39mrange\u001b[39m(num_iterations):\n\u001b[1;32m---> <a href='vscode-notebook-cell:/c%3A/Users/lmcge/OneDrive/Desktop/AMS595/Final%20Project/AMS-595-Project/training.ipynb#X13sZmlsZQ%3D%3D?line=14'>15</a>\u001b[0m     dw, db \u001b[39m=\u001b[39m propagate(w, b, X, Y)\n\u001b[0;32m     <a href='vscode-notebook-cell:/c%3A/Users/lmcge/OneDrive/Desktop/AMS595/Final%20Project/AMS-595-Project/training.ipynb#X13sZmlsZQ%3D%3D?line=16'>17</a>\u001b[0m     \u001b[39m# gradient descent\u001b[39;00m\n\u001b[0;32m     <a href='vscode-notebook-cell:/c%3A/Users/lmcge/OneDrive/Desktop/AMS595/Final%20Project/AMS-595-Project/training.ipynb#X13sZmlsZQ%3D%3D?line=17'>18</a>\u001b[0m     w \u001b[39m=\u001b[39m w \u001b[39m-\u001b[39m (learning_rate \u001b[39m*\u001b[39m dw)\n",
      "\u001b[1;32mc:\\Users\\lmcge\\OneDrive\\Desktop\\AMS595\\Final Project\\AMS-595-Project\\training.ipynb Cell 8\u001b[0m line \u001b[0;36m1\n\u001b[0;32m     <a href='vscode-notebook-cell:/c%3A/Users/lmcge/OneDrive/Desktop/AMS595/Final%20Project/AMS-595-Project/training.ipynb#X13sZmlsZQ%3D%3D?line=14'>15</a>\u001b[0m m \u001b[39m=\u001b[39m X\u001b[39m.\u001b[39mshape[\u001b[39m0\u001b[39m]\n\u001b[0;32m     <a href='vscode-notebook-cell:/c%3A/Users/lmcge/OneDrive/Desktop/AMS595/Final%20Project/AMS-595-Project/training.ipynb#X13sZmlsZQ%3D%3D?line=16'>17</a>\u001b[0m \u001b[39m# Forward propagation (X -> cost)\u001b[39;00m\n\u001b[1;32m---> <a href='vscode-notebook-cell:/c%3A/Users/lmcge/OneDrive/Desktop/AMS595/Final%20Project/AMS-595-Project/training.ipynb#X13sZmlsZQ%3D%3D?line=17'>18</a>\u001b[0m A \u001b[39m=\u001b[39m sigmoid(np\u001b[39m.\u001b[39;49mdot(X, w) \u001b[39m+\u001b[39m b)\n\u001b[0;32m     <a href='vscode-notebook-cell:/c%3A/Users/lmcge/OneDrive/Desktop/AMS595/Final%20Project/AMS-595-Project/training.ipynb#X13sZmlsZQ%3D%3D?line=19'>20</a>\u001b[0m \u001b[39m# Backward propagation (to find gradient)\u001b[39;00m\n\u001b[0;32m     <a href='vscode-notebook-cell:/c%3A/Users/lmcge/OneDrive/Desktop/AMS595/Final%20Project/AMS-595-Project/training.ipynb#X13sZmlsZQ%3D%3D?line=20'>21</a>\u001b[0m dw \u001b[39m=\u001b[39m (np\u001b[39m.\u001b[39mdot(X\u001b[39m.\u001b[39mT, (A\u001b[39m-\u001b[39mY))) \u001b[39m/\u001b[39m m \n",
      "\u001b[1;31mMemoryError\u001b[0m: Unable to allocate 18.5 GiB for an array with shape (13233, 187500) and data type float64"
     ]
    }
   ],
   "source": [
    "# num. dims (cols) for each sample\n",
    "dim = X.shape[1] \n",
    "\n",
    "# initialize weights vector\n",
    "w = np.zeros((dim, 1))\n",
    "\n",
    "# initialize bias term\n",
    "b = 0\n",
    "\n",
    "# hyperparameters\n",
    "num_iterations = 100\n",
    "learning_rate = 0.006\n",
    "\n",
    "for i in range(num_iterations):\n",
    "    dw, db = propagate(w, b, X, Y)\n",
    "\n",
    "    # gradient descent\n",
    "    w = w - (learning_rate * dw)\n",
    "    b = b - (learning_rate * db)\n",
    "\n",
    "\n",
    "scipy.io.savemat('training_weights.mat', {'weights': w})\n",
    "scipy.io.savemat('training_biases.mat', {'biases': b})"
   ]
  }
 ],
 "metadata": {
  "kernelspec": {
   "display_name": "Python 3",
   "language": "python",
   "name": "python3"
  },
  "language_info": {
   "codemirror_mode": {
    "name": "ipython",
    "version": 3
   },
   "file_extension": ".py",
   "mimetype": "text/x-python",
   "name": "python",
   "nbconvert_exporter": "python",
   "pygments_lexer": "ipython3",
   "version": "3.11.5"
  }
 },
 "nbformat": 4,
 "nbformat_minor": 2
}
